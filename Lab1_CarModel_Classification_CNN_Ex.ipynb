{
 "cells": [
  {
   "cell_type": "markdown",
   "metadata": {
    "colab_type": "text",
    "id": "SFoLOed-Vm5R"
   },
   "source": [
    "# Hand-on Lab 1 Ex : Car Model Classification with CNN\n",
    "In this handon Lab we are going to develop a Vehicle Classification using Computer Vision Machine Learning\n",
    "\n",
    "Python will the programming language used\n",
    "\n",
    "Tensorflow and Keras will the python modules use to develop the Machine Learning\n",
    "\n",
    "We will develop the followinf section of the codes\n",
    "\n",
    "\n",
    "\n",
    "\n",
    "\n",
    "1.   Install the python modules   \n",
    "2.   Add the libraries needed for the program\n",
    "3.  Prepare the data\n",
    "4.   Prepare the CNN model\n",
    "5.  Train the model with the training set and evaluate it performance\n",
    "6.   Use the trained model to classify input data\n",
    "\n"
   ]
  },
  {
   "cell_type": "markdown",
   "metadata": {
    "colab_type": "text",
    "id": "Gr9UQHf5JwE3"
   },
   "source": [
    "# 1. Install Python Modules\n",
    "Use the pip(python install program) to install the following modules\n",
    "* !pip install tensorflow==1.15.0\n",
    "* !pip install keras==2.1.6"
   ]
  },
  {
   "cell_type": "markdown",
   "metadata": {
    "colab_type": "text",
    "id": "Hj1dHMgCLr9a"
   },
   "source": [
    "# 2. Add the libraries needed for the program\n",
    "From the installed modules add the libraries for the machine learning\n",
    "\n",
    "\n",
    "```\n",
    "from keras.preprocessing.image import ImageDataGenerator\n",
    "from keras.preprocessing import image\n",
    "from keras import optimizers, regularizers\n",
    "from keras.models import Sequential\n",
    "from keras.layers import Conv2D, MaxPooling2D\n",
    "from keras.layers import Activation, Dropout, Flatten, Dense\n",
    "from keras import backend as K\n",
    "import numpy as np\n",
    "import matplotlib.pyplot as plt\n",
    "import matplotlib.image as mpimg\n",
    "from keras.applications.inception_v3 import preprocess_input, decode_predictions\n",
    "import keras\n",
    "import tensorflow as tf\n",
    "```\n",
    "\n"
   ]
  },
  {
   "cell_type": "code",
   "execution_count": 5,
   "metadata": {
    "colab": {
     "base_uri": "https://localhost:8080/",
     "height": 33
    },
    "colab_type": "code",
    "executionInfo": {
     "elapsed": 2369,
     "status": "ok",
     "timestamp": 1600739644086,
     "user": {
      "displayName": "NYP weech",
      "photoUrl": "",
      "userId": "03211871160483530494"
     },
     "user_tz": -480
    },
    "id": "LjhErGYmV2Qi",
    "outputId": "129e7331-85da-4362-9c7d-4fc502d1be67"
   },
   "outputs": [],
   "source": [
    "#Add Code\n"
   ]
  },
  {
   "cell_type": "code",
   "execution_count": 6,
   "metadata": {
    "colab": {
     "base_uri": "https://localhost:8080/",
     "height": 33
    },
    "colab_type": "code",
    "executionInfo": {
     "elapsed": 961,
     "status": "ok",
     "timestamp": 1600739647808,
     "user": {
      "displayName": "NYP weech",
      "photoUrl": "",
      "userId": "03211871160483530494"
     },
     "user_tz": -480
    },
    "id": "EAx4b2JXiWYm",
    "outputId": "e8e8bc65-31a7-46ae-836a-ff427ed175ae"
   },
   "outputs": [
    {
     "name": "stdout",
     "output_type": "stream",
     "text": [
      "1.13.1\n"
     ]
    }
   ],
   "source": [
    "print(tf.__version__)"
   ]
  },
  {
   "cell_type": "markdown",
   "metadata": {
    "colab_type": "text",
    "id": "zhr5JMTPMBlo"
   },
   "source": [
    "# 3. Prepare the data\n",
    "Following steps will prepare the data into training set and evaluation set"
   ]
  },
  {
   "cell_type": "markdown",
   "metadata": {
    "colab_type": "text",
    "id": "ptJqGwgQNaDf"
   },
   "source": [
    "### 3.1 Create dir in drive and specific the path\n",
    "\n",
    "\n",
    "```\n",
    "In the path ./dataset/lab1dataset/data/\n",
    "create a train directory with following subdir\n",
    "train \n",
    "   |- Honda\n",
    "   |- Toyota\n",
    "   |- Volkswagen \n",
    "copy 60 different jpg imagea according to the category in each of the subdir\n",
    "\n",
    "train data path \n",
    "train_data_dir = data_dir_path+'train'\n",
    "```\n",
    "\n",
    "```\n",
    "In the path ./dataset/lab1dataset/data/\n",
    "create a train directory with following subdir\n",
    "test \n",
    "   |- Honda\n",
    "   |- Toyota\n",
    "   |- Volkswagen \n",
    "copy 60 different jpg imagea according to the category in each of the subdir\n",
    "\n",
    "Validation data path \n",
    "validation_data_dir = data_dir_path+'validation'\n",
    "```\n",
    "\n",
    "\n",
    "\n",
    "```\n",
    "In the path ./dataset/lab1dataset/\n",
    "creat a dir prediction_images\n",
    "Copy some test images inside this directory\n",
    "prediction_data_dir = './dataset/Lab1dataset/prediction_images/'\n",
    "```\n",
    "\n",
    "\n",
    "\n"
   ]
  },
  {
   "cell_type": "code",
   "execution_count": 7,
   "metadata": {
    "colab": {},
    "colab_type": "code",
    "executionInfo": {
     "elapsed": 1208,
     "status": "ok",
     "timestamp": 1600739785215,
     "user": {
      "displayName": "NYP weech",
      "photoUrl": "",
      "userId": "03211871160483530494"
     },
     "user_tz": -480
    },
    "id": "UqJN2hz7ZUy_"
   },
   "outputs": [],
   "source": [
    "# Define Paths \n",
    "#Add code"
   ]
  },
  {
   "cell_type": "markdown",
   "metadata": {
    "colab_type": "text",
    "id": "h6KWkyz_PjU3"
   },
   "source": [
    "### 3.2 Get the total number of predicted classes\n",
    "From the train subdir we can get the number of classes\n",
    "\n",
    "\n",
    "> The numbers of classes are categories of object we wanted to predict\n",
    "\n",
    "> The numbers of subdir will be the classes name\n",
    "\n",
    "```\n",
    "classes = ImageDataGenerator().flow_from_directory(train_data_dir).class_indices\n",
    "print(classes)\n",
    "print(len(classes))\n",
    "num_classes= len(classes)\n",
    "```\n"
   ]
  },
  {
   "cell_type": "code",
   "execution_count": 8,
   "metadata": {
    "colab": {
     "base_uri": "https://localhost:8080/",
     "height": 67
    },
    "colab_type": "code",
    "executionInfo": {
     "elapsed": 4137,
     "status": "ok",
     "timestamp": 1600739818578,
     "user": {
      "displayName": "NYP weech",
      "photoUrl": "",
      "userId": "03211871160483530494"
     },
     "user_tz": -480
    },
    "id": "e_REo5X_bhxa",
    "outputId": "7834c36b-22e6-4164-c6d2-a2ccf99327f6"
   },
   "outputs": [
    {
     "name": "stdout",
     "output_type": "stream",
     "text": [
      "Found 193 images belonging to 3 classes.\n",
      "{'Honda': 0, 'Toyota': 1, 'Volkswagen': 2}\n",
      "3\n"
     ]
    }
   ],
   "source": [
    "# Gets the total no. of classes\n",
    "#Add code"
   ]
  },
  {
   "cell_type": "markdown",
   "metadata": {
    "colab_type": "text",
    "id": "wDuVmIyrSoFe"
   },
   "source": [
    "### 3.3 Prepare Data for training and validation\n",
    "\n",
    "> Define the image width and height to be used as input to the model for training\n",
    "\n",
    ">Define the batch size \n",
    "\n",
    "```\n",
    "\n",
    "def PrepareData(img_width,img_height,batch_size ):\n",
    "\n",
    "    # This augments the data. This is usefull when working with a small sample size\n",
    "    train_datagen = ImageDataGenerator(\n",
    "        rescale=1. / 255,\n",
    "        shear_range=0.2,\n",
    "        zoom_range=0.2,\n",
    "        horizontal_flip=True)\n",
    "\n",
    "    validation_datagen = ImageDataGenerator(rescale=1. / 255)\n",
    "\n",
    "    print(\"train generator\")\n",
    "    train_generator = train_datagen.flow_from_directory(\n",
    "        train_data_dir,\n",
    "        target_size=(img_width, img_height),\n",
    "        batch_size=batch_size,\n",
    "        class_mode='categorical',\n",
    "        shuffle=True\n",
    "    )\n",
    "\n",
    "    print(\"validation generator\")\n",
    "    validation_generator = validation_datagen.flow_from_directory(\n",
    "        validation_data_dir,\n",
    "        target_size=(img_width, img_height),\n",
    "        batch_size=batch_size,\n",
    "        class_mode='categorical',\n",
    "        shuffle=True)\n",
    "\n",
    "    return train_generator,validation_generator\n",
    "```\n"
   ]
  },
  {
   "cell_type": "code",
   "execution_count": 9,
   "metadata": {
    "colab": {},
    "colab_type": "code",
    "executionInfo": {
     "elapsed": 927,
     "status": "ok",
     "timestamp": 1600739968263,
     "user": {
      "displayName": "NYP weech",
      "photoUrl": "",
      "userId": "03211871160483530494"
     },
     "user_tz": -480
    },
    "id": "DKKq1Nu0biPQ"
   },
   "outputs": [],
   "source": [
    "#Prepare Data for training and validation\n",
    "\n",
    "def PrepareData(img_width,img_height,batch_size ):\n",
    "\n",
    "    # This augments the data. This is usefull when working with a small sample size\n",
    "    # Add code train_datagen \n",
    "\n",
    "    #Add code validation_datagen\n",
    "\n",
    "    print(\"train generator\")\n",
    "    #Add code train_generator\n",
    "    \n",
    "    print(\"validation generator\")\n",
    "    #Add code validation_generator\n",
    "    \n",
    "    return train_generator,validation_generator"
   ]
  },
  {
   "cell_type": "markdown",
   "metadata": {
    "colab_type": "text",
    "id": "QO0RcRNQSS0-"
   },
   "source": [
    "# 4. Prepare the CNN Model"
   ]
  },
  {
   "cell_type": "markdown",
   "metadata": {
    "colab_type": "text",
    "id": "J3-_hKmxN20M"
   },
   "source": [
    "### 4.1 CNN Convolution Netural Network\n",
    "> Use the ResNet50 CNN model\n",
    "\n",
    "> Each typical CNN layer comprise of Conv + Activation function + MaxPooling\n",
    "\n",
    "> Each CNN2D layer can be added into the Keras Squential \n",
    "\n",
    "> Define the parameters for each of the CNN layer\n",
    "\n",
    "*   Conv2D-> number of feature map , size of feature map size NxN\n",
    "*   Activation function -> relu , sigmo\n",
    "*   MaxPooling-> kernel size NxN\n",
    "\n",
    ">Define the ouput layer\n",
    "\n",
    "*   Flatten-> 2D to 1D\n",
    "*   Dense layer->number of neutrons\n",
    "*   Activation Function->softmax(probability of each the classes)\n",
    "\n",
    "```\n",
    "def compileModel(img_width, img_height,learning_rate=1e-4):\n",
    "    print(\"compiling model\")\n",
    "\n",
    "    # Insureing that the images are in the correct format.\n",
    "    if K.image_data_format() == 'channels_first':\n",
    "        input_shape = (3, img_width, img_height)\n",
    "    else:\n",
    "        input_shape = (img_width, img_height, 3)\n",
    "    \n",
    "    img_color=3\n",
    "\n",
    "    conv_base = ResNet50(weights='imagenet',\n",
    "                      include_top=False,\n",
    "                      input_shape=(img_width, img_height, img_color))\n",
    "\n",
    "    model = models.Sequential()\n",
    "    model.add(conv_base)\n",
    "    #Add dense and classification layer\n",
    "    model.add(layers.Flatten())\n",
    "    model.add(layers.Dense(256, activation='relu'))\n",
    "    model.add(layers.Dropout(0.1))\n",
    "    model.add(layers.Dense(num_classes, activation='softmax'))\n",
    "\n",
    "    # print(model.summary())\n",
    "    # print(conv_base.summary())\n",
    "    model.compile(loss='categorical_crossentropy',optimizer= optimizers.adam(lr=learning_rate),metrics=['accuracy'])\n",
    "    for layer in conv_base.layers:\n",
    "      layer.trainable = False\n",
    "    for layer in conv_base.layers[-4:]:\n",
    "      layer.trainable = True\n",
    "    return model\n",
    "\n",
    "```\n",
    "\n"
   ]
  },
  {
   "cell_type": "code",
   "execution_count": 22,
   "metadata": {
    "colab": {},
    "colab_type": "code",
    "executionInfo": {
     "elapsed": 1112,
     "status": "ok",
     "timestamp": 1600740460029,
     "user": {
      "displayName": "NYP weech",
      "photoUrl": "",
      "userId": "03211871160483530494"
     },
     "user_tz": -480
    },
    "id": "KH0ec4qCf7FS"
   },
   "outputs": [],
   "source": [
    "def compileModel(img_width, img_height,learning_rate=1e-4):\n",
    "    print(\"compiling model\")\n",
    "\n",
    "    # Insureing that the images are in the correct format.\n",
    "    if K.image_data_format() == 'channels_first':\n",
    "        input_shape = (3, img_width, img_height)\n",
    "    else:\n",
    "        input_shape = (img_width, img_height, 3)\n",
    "    \n",
    "    img_color=3\n",
    "\n",
    "    #Add code use the ResNet50 model\n",
    "    \n",
    "\n",
    "    # print(model.summary())\n",
    "    # print(conv_base.summary())\n",
    "    model.compile(loss='categorical_crossentropy',optimizer= optimizers.adam(lr=learning_rate),metrics=['accuracy'])\n",
    "    for layer in conv_base.layers:\n",
    "      layer.trainable = False\n",
    "    for layer in conv_base.layers[-4:]:\n",
    "      layer.trainable = True\n",
    "    return model"
   ]
  },
  {
   "cell_type": "code",
   "execution_count": 11,
   "metadata": {
    "colab": {},
    "colab_type": "code",
    "executionInfo": {
     "elapsed": 1523,
     "status": "ok",
     "timestamp": 1600740131384,
     "user": {
      "displayName": "NYP weech",
      "photoUrl": "",
      "userId": "03211871160483530494"
     },
     "user_tz": -480
    },
    "id": "zMUegDZ9gY62"
   },
   "outputs": [],
   "source": [
    "best_model = keras.callbacks.ModelCheckpoint(data_dir_path+'custom_w_supervision_try2_best' + '.h5', monitor='val_acc',save_best_only=True)\n",
    "reduce_lr = keras.callbacks.ReduceLROnPlateau(monitor='loss',factor=0.25, patience=5,min_lr=0.000005)\n"
   ]
  },
  {
   "cell_type": "markdown",
   "metadata": {
    "colab_type": "text",
    "id": "hAFGrHhTTIWX"
   },
   "source": [
    "# 5. Train the model with the training set and evaluate it performance"
   ]
  },
  {
   "cell_type": "markdown",
   "metadata": {
    "colab_type": "text",
    "id": "1V4dlZyHUVTM"
   },
   "source": [
    "### 5.1 Setup Model with training and testing dataset\n",
    "\n",
    "> Define the train data generator/test data generator\n",
    "\n",
    "> Fit the train data generator into the CNN model for training\n",
    "\n",
    "> Start traning epochs\n",
    "\n",
    "> After training plot the performance metrics\n",
    "\n",
    "\n",
    "```\n",
    "def trainModel(train_data, validation_data,model):\n",
    "\n",
    "    print(\"starting training.... \")\n",
    "    hist = model.fit_generator(\n",
    "        (train_data),\n",
    "        steps_per_epoch=nb_train_samples // batch_size, # The accumulated amount of steps\n",
    "        epochs=epochs,\n",
    "        validation_data=validation_data,\n",
    "        nb_val_samples=nb_validation_samples,\n",
    "        callbacks=[best_model, reduce_lr]\n",
    "    )\n",
    "\n",
    "    plotVal_plotLoss(hist)\n",
    "    model.save_weights(data_dir_path+'custom_w_supervision_try2.h5') # Saving the compile weights\n",
    "```"
   ]
  },
  {
   "cell_type": "code",
   "execution_count": 14,
   "metadata": {
    "colab": {},
    "colab_type": "code",
    "executionInfo": {
     "elapsed": 901,
     "status": "ok",
     "timestamp": 1600740440814,
     "user": {
      "displayName": "NYP weech",
      "photoUrl": "",
      "userId": "03211871160483530494"
     },
     "user_tz": -480
    },
    "id": "Nf9oc01xgnos"
   },
   "outputs": [],
   "source": [
    "def trainModel(train_data, validation_data,model):\n",
    "\n",
    "    print(\"starting training.... \")\n",
    "    #Add code to train with the data\n",
    "    #hsit= model.fir_generator()\n",
    "    \n",
    "    #Add code to disply the training result\n",
    "    \n",
    "    model.save_weights(data_dir_path+'custom_w_supervision_try2.h5') # Saving the compile weights\n"
   ]
  },
  {
   "cell_type": "code",
   "execution_count": null,
   "metadata": {
    "colab": {},
    "colab_type": "code",
    "executionInfo": {
     "elapsed": 870,
     "status": "ok",
     "timestamp": 1600740443959,
     "user": {
      "displayName": "NYP weech",
      "photoUrl": "",
      "userId": "03211871160483530494"
     },
     "user_tz": -480
    },
    "id": "PxFBEdKJg36i"
   },
   "outputs": [],
   "source": [
    "# This function generates graphs of the loss and the accuracy of the model\n",
    "def plotVal_plotLoss (model) :\n",
    "\n",
    "    plt.plot(model.history['acc'])\n",
    "    plt.plot(model.history['val_acc'])\n",
    "    plt.title('model accuracy')\n",
    "    plt.ylabel('accuracy')\n",
    "    plt.xlabel('epoch')\n",
    "    plt.legend(['train', 'test'], loc='upper left')\n",
    "    plt.savefig('loss_plot_4 (simulated vgg1)2')\n",
    "    plt.show()\n",
    "\n",
    "    plt.plot(model.history['loss'])\n",
    "    plt.plot(model.history['val_loss'])\n",
    "    plt.title('model loss')\n",
    "    plt.ylabel('loss')\n",
    "    plt.xlabel('epoch')\n",
    "    plt.legend(['train', 'test'], loc='upper left')\n",
    "    plt.savefig('loss_plot_4 (simulated vgg1)2')\n",
    "    plt.show()\n"
   ]
  },
  {
   "cell_type": "markdown",
   "metadata": {},
   "source": [
    "### 5.2 Start the training\n",
    "```\n",
    "# dimensions of our images.\n",
    "img_width, img_height = 197, 197\n",
    "batch_size = 30 # The batch size represents the total amount of pictures that are included in each iteration.\n",
    "\n",
    "train_data, validation_data = PrepareData(img_width,img_height,batch_size)\n",
    "\n",
    "model=compileModel(img_width, img_height,learning_rate=1e-4)\n",
    "\n",
    "# Defining the total amount of samples in both the training and validation set\n",
    "nb_train_samples = 180\n",
    "nb_validation_samples = 45\n",
    "epochs = 1\n",
    "\n",
    "trainModel(train_data, validation_data, model)\n",
    "```"
   ]
  },
  {
   "cell_type": "code",
   "execution_count": 16,
   "metadata": {
    "colab": {
     "base_uri": "https://localhost:8080/",
     "height": 1000
    },
    "colab_type": "code",
    "executionInfo": {
     "elapsed": 159950,
     "status": "ok",
     "timestamp": 1600741556038,
     "user": {
      "displayName": "NYP weech",
      "photoUrl": "",
      "userId": "03211871160483530494"
     },
     "user_tz": -480
    },
    "id": "RXNggLb7g4MG",
    "outputId": "7e0f3b08-0ce6-4028-9067-4ddb8b04d6e5"
   },
   "outputs": [
    {
     "name": "stdout",
     "output_type": "stream",
     "text": [
      "train generator\n",
      "Found 193 images belonging to 3 classes.\n",
      "validation generator\n",
      "Found 46 images belonging to 3 classes.\n",
      "compiling model\n",
      "WARNING:tensorflow:From e:\\python37\\lib\\site-packages\\tensorflow\\python\\framework\\op_def_library.py:263: colocate_with (from tensorflow.python.framework.ops) is deprecated and will be removed in a future version.\n",
      "Instructions for updating:\n",
      "Colocations handled automatically by placer.\n",
      "WARNING:tensorflow:From e:\\python37\\lib\\site-packages\\keras\\backend\\tensorflow_backend.py:3144: calling dropout (from tensorflow.python.ops.nn_ops) with keep_prob is deprecated and will be removed in a future version.\n",
      "Instructions for updating:\n",
      "Please use `rate` instead of `keep_prob`. Rate should be set to `rate = 1 - keep_prob`.\n",
      "starting training.... \n",
      "WARNING:tensorflow:From e:\\python37\\lib\\site-packages\\tensorflow\\python\\ops\\math_ops.py:3066: to_int32 (from tensorflow.python.ops.math_ops) is deprecated and will be removed in a future version.\n",
      "Instructions for updating:\n",
      "Use tf.cast instead.\n"
     ]
    },
    {
     "name": "stderr",
     "output_type": "stream",
     "text": [
      "e:\\python37\\lib\\site-packages\\ipykernel_launcher.py:10: UserWarning: The semantics of the Keras 2 argument `steps_per_epoch` is not the same as the Keras 1 argument `samples_per_epoch`. `steps_per_epoch` is the number of batches to draw from the generator at each epoch. Basically steps_per_epoch = samples_per_epoch/batch_size. Similarly `nb_val_samples`->`validation_steps` and `val_samples`->`steps` arguments have changed. Update your method calls accordingly.\n",
      "  # Remove the CWD from sys.path while we load stuff.\n",
      "e:\\python37\\lib\\site-packages\\ipykernel_launcher.py:10: UserWarning: Update your `fit_generator` call to the Keras 2 API: `fit_generator(<keras.pre..., steps_per_epoch=6, epochs=1, validation_data=<keras.pre..., callbacks=[<keras.ca..., validation_steps=45)`\n",
      "  # Remove the CWD from sys.path while we load stuff.\n",
      "e:\\python37\\lib\\site-packages\\keras\\engine\\training.py:975: UserWarning: Discrepancy between trainable weights and collected trainable weights, did you set `model.trainable` without calling `model.compile` after ?\n",
      "  'Discrepancy between trainable weights and collected trainable'\n"
     ]
    },
    {
     "name": "stdout",
     "output_type": "stream",
     "text": [
      "Epoch 1/1\n",
      "6/6 [==============================] - 246s 41s/step - loss: 1.1659 - acc: 0.4484 - val_loss: 0.8895 - val_acc: 0.6315\n"
     ]
    },
    {
     "data": {
      "image/png": "[encoded data removed]",
      "text/plain": [
       "<Figure size 432x288 with 1 Axes>"
      ]
     },
     "metadata": {
      "needs_background": "light"
     },
     "output_type": "display_data"
    },
    {
     "data": {
      "image/png": "[encoded data removed]",
      "text/plain": [
       "<Figure size 432x288 with 1 Axes>"
      ]
     },
     "metadata": {
      "needs_background": "light"
     },
     "output_type": "display_data"
    }
   ],
   "source": [
    "# dimensions of our images.\n",
    "img_width, img_height = #add\n",
    "\n",
    "# The batch size represents the total amount of pictures that are included in each iteration.\n",
    "batch_size = #add\n",
    "\n",
    "#Prepare data\n",
    "#Add code\n",
    "train_data, validation_data = #Add code\n",
    "\n",
    "#Load Model\n",
    "model=# Add code\n",
    "\n",
    "# Defining the total amount of samples in both the training and validation set\n",
    "nb_train_samples = 180\n",
    "nb_validation_samples = 45\n",
    "epochs = #Add\n",
    "\n",
    "#Start the training model\n",
    "#Add code\n"
   ]
  },
  {
   "cell_type": "markdown",
   "metadata": {
    "colab_type": "text",
    "id": "gBdPXDexTSsX"
   },
   "source": [
    "# 6. Use the trained model to classify input data\n",
    "\n"
   ]
  },
  {
   "cell_type": "markdown",
   "metadata": {},
   "source": [
    "### 6.1 Setup a predict image function"
   ]
  },
  {
   "cell_type": "code",
   "execution_count": 17,
   "metadata": {
    "colab": {},
    "colab_type": "code",
    "executionInfo": {
     "elapsed": 932,
     "status": "ok",
     "timestamp": 1600740763311,
     "user": {
      "displayName": "NYP weech",
      "photoUrl": "",
      "userId": "03211871160483530494"
     },
     "user_tz": -480
    },
    "id": "o_hvMM66goEz"
   },
   "outputs": [],
   "source": [
    "# This function c\n",
    "def predictImg(path, model):\n",
    "    imagep = image.load_img(path, target_size=(197, 197))\n",
    "    x = image.img_to_array(imagep)\n",
    "    x = x / 255  # Insures that images are normalized, so it can be compared test on a model that also used normalized training and validation images\n",
    "    #x = preprocess_input(x)\n",
    "    x = np.expand_dims(x, axis=0) # flattens the image\n",
    "    prediction = model.predict(x) # Extract the prediction made by the model\n",
    "    print(path)\n",
    "    print(prediction)\n",
    "    findLabel(prediction, 0.2, path)\n"
   ]
  },
  {
   "cell_type": "code",
   "execution_count": 18,
   "metadata": {
    "colab": {},
    "colab_type": "code",
    "executionInfo": {
     "elapsed": 901,
     "status": "ok",
     "timestamp": 1600740765510,
     "user": {
      "displayName": "NYP weech",
      "photoUrl": "",
      "userId": "03211871160483530494"
     },
     "user_tz": -480
    },
    "id": "b3efmUz5gxsj"
   },
   "outputs": [],
   "source": [
    "def findLabel(test, threshold, path):\n",
    "    if (max(test[0]) < threshold):\n",
    "        print(\"no class could be defined for \" + path + \" with threshold 0.85\")\n",
    "    else:\n",
    "        m = max(test[0])\n",
    "        index = [i for i, j in enumerate(list(test[0])) if j == m]\n",
    "        labeler(index[0], path)\n"
   ]
  },
  {
   "cell_type": "code",
   "execution_count": 19,
   "metadata": {
    "colab": {},
    "colab_type": "code",
    "executionInfo": {
     "elapsed": 979,
     "status": "ok",
     "timestamp": 1600740774631,
     "user": {
      "displayName": "NYP weech",
      "photoUrl": "",
      "userId": "03211871160483530494"
     },
     "user_tz": -480
    },
    "id": "0trRjR9pgx_j"
   },
   "outputs": [],
   "source": [
    "def labeler(inp, pathname):\n",
    "    label = list(classes.keys())[inp]\n",
    "    print(\"The image '\" + pathname + \"' belongs to class: \" + label) # Prints the prediction\n",
    "    return 0"
   ]
  },
  {
   "cell_type": "markdown",
   "metadata": {},
   "source": [
    "### 6.2 Predict the unknow image\n",
    "> Setup the CNN Model\n",
    "\n",
    "> Load the trained weight(.h5) into the CNN model\n",
    "\n",
    "> Process the unknow input image and pass into the input of the CNN model\n",
    "\n",
    "> From the output probability(highest probability) find the label(class)\n",
    "\n",
    "```\n",
    "img_width, img_height = 197, 197\n",
    "np.set_printoptions(suppress=True, precision=3)\n",
    "\n",
    "model = compileModel(img_width, img_height)\n",
    "\n",
    "model.load_weights(data_dir_path+'custom_w_supervision_try2_best.h5')\n",
    "\n",
    "# predictImg(prediction_data_dir + '/ambulance1.jpg, model) #ambulance\n",
    "predictImg(prediction_data_dir + '/toyota1.jpg', model) # \n",
    "predictImg(prediction_data_dir + '/toyota2.jpg', model) # \n",
    "\n",
    "\n",
    "predictImg(prediction_data_dir + '/honda1.jpg', model) # \n",
    "predictImg(prediction_data_dir + '/honda2.jpg', model) # \n",
    "\n",
    "predictImg(prediction_data_dir + '/volkwagen1.jpg', model) # \n",
    "predictImg(prediction_data_dir + '/volkwagen2.jpg', model) # \n",
    "\n",
    "# predictImg(prediction_data_dir + '/ambulance1.jpg, model) #\n",
    "predictImg(prediction_data_dir + '/toyota3.jpg', model) # \n",
    "predictImg(prediction_data_dir + '/toyota4.jpg', model) # \n",
    "\n",
    "\n",
    "predictImg(prediction_data_dir + '/honda3.jpg', model) # \n",
    "predictImg(prediction_data_dir + '/honda4.jpg', model) # \n",
    "\n",
    "predictImg(prediction_data_dir + '/volkwagen3.jpg', model) # \n",
    "predictImg(prediction_data_dir + '/volkwagen4.jpg', model) # \n",
    "```"
   ]
  },
  {
   "cell_type": "code",
   "execution_count": 25,
   "metadata": {
    "colab": {
     "base_uri": "https://localhost:8080/",
     "height": 633
    },
    "colab_type": "code",
    "executionInfo": {
     "elapsed": 60167,
     "status": "ok",
     "timestamp": 1600742011234,
     "user": {
      "displayName": "NYP weech",
      "photoUrl": "",
      "userId": "03211871160483530494"
     },
     "user_tz": -480
    },
    "id": "LRPFxU8PhC-6",
    "outputId": "f5ad104c-cd36-4906-e187-0d6afcc49a34"
   },
   "outputs": [
    {
     "name": "stdout",
     "output_type": "stream",
     "text": [
      "compiling model\n",
      "./Lab1dataset/prediction_images//toyota1.jpg\n",
      "[[0.    0.976 0.023]]\n",
      "The image './Lab1dataset/prediction_images//toyota1.jpg' belongs to class: Toyota\n",
      "./Lab1dataset/prediction_images//toyota2.jpg\n",
      "[[0. 1. 0.]]\n",
      "The image './Lab1dataset/prediction_images//toyota2.jpg' belongs to class: Toyota\n",
      "./Lab1dataset/prediction_images//honda1.jpg\n",
      "[[0.869 0.071 0.06 ]]\n",
      "The image './Lab1dataset/prediction_images//honda1.jpg' belongs to class: Honda\n",
      "./Lab1dataset/prediction_images//honda2.jpg\n",
      "[[0.998 0.001 0.001]]\n",
      "The image './Lab1dataset/prediction_images//honda2.jpg' belongs to class: Honda\n",
      "./Lab1dataset/prediction_images//volkwagen1.jpg\n",
      "[[0.001 0.    0.998]]\n",
      "The image './Lab1dataset/prediction_images//volkwagen1.jpg' belongs to class: Volkswagen\n",
      "./Lab1dataset/prediction_images//volkwagen2.jpg\n",
      "[[0. 0. 1.]]\n",
      "The image './Lab1dataset/prediction_images//volkwagen2.jpg' belongs to class: Volkswagen\n",
      "./Lab1dataset/prediction_images//toyota3.jpg\n",
      "[[0. 1. 0.]]\n",
      "The image './Lab1dataset/prediction_images//toyota3.jpg' belongs to class: Toyota\n",
      "./Lab1dataset/prediction_images//toyota4.jpg\n",
      "[[0. 1. 0.]]\n",
      "The image './Lab1dataset/prediction_images//toyota4.jpg' belongs to class: Toyota\n",
      "./Lab1dataset/prediction_images//honda3.jpg\n",
      "[[0.109 0.889 0.002]]\n",
      "The image './Lab1dataset/prediction_images//honda3.jpg' belongs to class: Toyota\n",
      "./Lab1dataset/prediction_images//honda4.jpg\n",
      "[[0.937 0.06  0.003]]\n",
      "The image './Lab1dataset/prediction_images//honda4.jpg' belongs to class: Honda\n",
      "./Lab1dataset/prediction_images//volkwagen3.jpg\n",
      "[[0.002 0.551 0.447]]\n",
      "The image './Lab1dataset/prediction_images//volkwagen3.jpg' belongs to class: Toyota\n",
      "./Lab1dataset/prediction_images//volkwagen4.jpg\n",
      "[[0.001 0.    0.999]]\n",
      "The image './Lab1dataset/prediction_images//volkwagen4.jpg' belongs to class: Volkswagen\n"
     ]
    }
   ],
   "source": [
    "img_width, img_height = 197, 197\n",
    "np.set_printoptions(suppress=True, precision=3)\n",
    "\n",
    "#Setup CNN Model\n",
    "#Add code \n",
    "\n",
    "#Load weight into Model \n",
    "#Add code\n",
    "\n",
    "\n",
    "\n",
    "# predictImg(prediction_data_dir + '/ambulance1.jpg, model) #ambulance\n",
    "predictImg(prediction_data_dir + '/toyota1.jpg', model) # \n",
    "predictImg(prediction_data_dir + '/toyota2.jpg', model) # \n",
    "\n",
    "\n",
    "predictImg(prediction_data_dir + '/honda1.jpg', model) # \n",
    "predictImg(prediction_data_dir + '/honda2.jpg', model) # \n",
    "\n",
    "predictImg(prediction_data_dir + '/volkwagen1.jpg', model) # \n",
    "predictImg(prediction_data_dir + '/volkwagen2.jpg', model) # \n",
    "\n",
    "# predictImg(prediction_data_dir + '/ambulance1.jpg, model) #\n",
    "predictImg(prediction_data_dir + '/toyota3.jpg', model) # \n",
    "predictImg(prediction_data_dir + '/toyota4.jpg', model) # \n",
    "\n",
    "\n",
    "predictImg(prediction_data_dir + '/honda3.jpg', model) # \n",
    "predictImg(prediction_data_dir + '/honda4.jpg', model) # \n",
    "\n",
    "predictImg(prediction_data_dir + '/volkwagen3.jpg', model) # \n",
    "predictImg(prediction_data_dir + '/volkwagen4.jpg', model) # \n"
   ]
  }
 ],
 "metadata": {
  "accelerator": "GPU",
  "colab": {
   "authorship_tag": "ABX9TyNkruaBc4pLdY0qKoXWG6qt",
   "name": "Car3_Classification_CNN.ipynb",
   "provenance": []
  },
  "kernelspec": {
   "display_name": "Python 3",
   "language": "python",
   "name": "python3"
  },
  "language_info": {
   "codemirror_mode": {
    "name": "ipython",
    "version": 3
   },
   "file_extension": ".py",
   "mimetype": "text/x-python",
   "name": "python",
   "nbconvert_exporter": "python",
   "pygments_lexer": "ipython3",
   "version": "3.7.6"
  }
 },
 "nbformat": 4,
 "nbformat_minor": 4
}
